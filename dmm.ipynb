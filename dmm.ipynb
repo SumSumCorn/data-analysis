{
 "cells": [
  {
   "cell_type": "code",
   "execution_count": 14,
   "metadata": {},
   "outputs": [],
   "source": [
    "from selenium import webdriver\n",
    "from selenium.webdriver.common.by import By"
   ]
  },
  {
   "cell_type": "code",
   "execution_count": null,
   "metadata": {},
   "outputs": [],
   "source": [
    "driver = webdriver.Chrome()\n",
    "\n",
    "url = \"https://www.dmm.co.jp/digital/videoa/-/list/=/sort=ranking/\"\n",
    "\n",
    "driver.get(url)\n",
    "\n",
    "# 'p' 태그와 'ageCheck__linkText' 클래스를 가진 요소 찾기\n",
    "button = driver.find_element(\n",
    "    By.CSS_SELECTOR, \"#dm-content > main > div > div > div:nth-child(2) > a > p\"\n",
    ")\n",
    "\n",
    "# 요소 클릭\n",
    "button.click()"
   ]
  },
  {
   "cell_type": "code",
   "execution_count": null,
   "metadata": {},
   "outputs": [],
   "source": [
    "# <p class=\"ageCheck__linkText\">I Agree</p>\n",
    "\n",
    "# <p class=\"ageCheck__linkText\">I Agree</p>\n",
    "\n",
    "# #dm-content > main > div > div > div:nth-child(2) > a > p\n",
    "\n",
    "# document.querySelector(\"#dm-content > main > div > div > div:nth-child(2) > a > p\")\n",
    "\n",
    "#     font-family: 'Hiragino Kaku Gothic Pro', 'ヒラギノ角ゴ Pro W3', 'HiraginoSans-W3', 'メイリオ', Meiryo, 'ＭＳ Ｐゴシック', sans-serif;\n",
    "#     border-collapse: collapse;\n",
    "#     text-align: center;\n",
    "#     cursor: pointer;\n",
    "#     margin: 0;\n",
    "#     padding: 0;\n",
    "#     line-height: 48px;\n",
    "#     font-size: 18px;\n",
    "#     font-weight: bold;\n",
    "#     color: #fff;\n",
    "\n",
    "\n",
    "# //*[@id=\"dm-content\"]/main/div/div/div[2]/a/p\n",
    "# /html/body/div[2]/div/main/div/div/div[2]/a/p"
   ]
  }
 ],
 "metadata": {
  "kernelspec": {
   "display_name": "python-practice",
   "language": "python",
   "name": "python3"
  },
  "language_info": {
   "codemirror_mode": {
    "name": "ipython",
    "version": 3
   },
   "file_extension": ".py",
   "mimetype": "text/x-python",
   "name": "python",
   "nbconvert_exporter": "python",
   "pygments_lexer": "ipython3",
   "version": "3.11.3"
  },
  "orig_nbformat": 4
 },
 "nbformat": 4,
 "nbformat_minor": 2
}
